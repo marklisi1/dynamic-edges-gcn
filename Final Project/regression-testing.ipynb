{
 "cells": [
  {
   "cell_type": "code",
   "execution_count": null,
   "metadata": {},
   "outputs": [],
   "source": [
    "import torch\n",
    "import os\n",
    "import math\n",
    "import numpy as np\n",
    "import matplotlib.pyplot as plt\n",
    "import torch_geometric\n",
    "import random \n",
    "import torch.nn.functional as F\n",
    "from torch_geometric.nn import GCNConv\n",
    "import torch_geometric.transforms as T"
   ]
  },
  {
   "cell_type": "markdown",
   "metadata": {},
   "source": [
    "### Loading in features / preparing Data objects"
   ]
  },
  {
   "cell_type": "code",
   "execution_count": null,
   "metadata": {},
   "outputs": [],
   "source": [
    "oil_gas_regression_data = torch.load('pyg_objects/oil+gas/regression_data')\n",
    "oil_gas_regression_data.edge_index = torch.load('pyg_objects/oil+gas/co2+ch4-1000km')"
   ]
  },
  {
   "cell_type": "code",
   "execution_count": null,
   "metadata": {},
   "outputs": [],
   "source": [
    "import networkx as nx\n",
    "from torch_geometric.utils import to_networkx\n",
    "\n",
    "node_coords = torch.load('pyg_objects/oil+gas/co2+ch4-location-mapping')\n",
    "\n",
    "# Convert PyG Data object to a NetworkX graph\n",
    "graph = to_networkx(oil_gas_regression_data, to_undirected=True)\n",
    "\n",
    "# Draw the graph\n",
    "pos = nx.spiral_layout(graph)  # You can choose a different layout if needed\n",
    "nx.draw(graph, pos=node_coords, with_labels=True,  node_color='skyblue', node_size=0.5, font_size=0)\n",
    "\n",
    "# Display the plot\n",
    "plt.show()"
   ]
  },
  {
   "cell_type": "markdown",
   "metadata": {},
   "source": [
    "### Defining and initializing GCN"
   ]
  },
  {
   "cell_type": "code",
   "execution_count": null,
   "metadata": {},
   "outputs": [],
   "source": [
    "class GCNRegression(torch.nn.Module):\n",
    "    def __init__(self, in_channels, hidden_channels, out_channels):\n",
    "        super().__init__()\n",
    "        torch.manual_seed(637)\n",
    "        self.conv1 = GCNConv(in_channels, hidden_channels)\n",
    "        self.conv2 = GCNConv(hidden_channels, hidden_channels*2)\n",
    "        self.fc = torch.nn.Linear(hidden_channels*2, out_channels)  # Output layer for regression task\n",
    "        self.double()\n",
    "\n",
    "    def forward(self, x, edge_index):\n",
    "        x = self.conv1(x, edge_index)\n",
    "        x = F.relu(x)\n",
    "        #x = F.dropout(x, p=0.5, training=self.training)\n",
    "        x = self.conv2(x, edge_index)\n",
    "        x = F.relu(x)\n",
    "        x = self.fc(x)\n",
    "        return x.squeeze(1)  # Remove the singleton dimension for regression\n",
    "\n",
    "# Instantiate the model\n",
    "gcn_regression_model = GCNRegression(in_channels=oil_gas_regression_data.num_features,\n",
    "                                     hidden_channels=16,\n",
    "                                     out_channels=2)\n",
    "gcn_regression_optimizer = torch.optim.Adam(gcn_regression_model.parameters(), lr=0.01, weight_decay=5e-4)\n",
    "gcn_regression_criterion = torch.nn.MSELoss()  # Mean Squared Error Loss for regression\n",
    "\n",
    "gcn_regression_model"
   ]
  },
  {
   "cell_type": "code",
   "execution_count": null,
   "metadata": {},
   "outputs": [],
   "source": [
    "def gcn_train(model, data, optimizer, criterion):\n",
    "    model.train()\n",
    "    optimizer.zero_grad()  # Clear gradients.\n",
    "    out = model(data.x, data.edge_index)  # Perform a single forward pass.\n",
    "    \n",
    "    # Assuming data.y contains the target values for regression\n",
    "    loss = criterion(out[data.train_mask], data.y[data.train_mask])\n",
    "\n",
    "    loss.backward()  # Derive gradients.\n",
    "    optimizer.step()  # Update parameters based on gradients.\n",
    "    return loss.item()  # Return the loss value as a scalar\n",
    "\n",
    "def gcn_test(model, data):\n",
    "    model.eval()\n",
    "    out = model(data.x, data.edge_index)\n",
    "    \n",
    "    # Assuming you are directly using regression output without argmax\n",
    "    predictions = out[data.test_mask]\n",
    "    #print(predictions[0], data.y[data.test_mask][0])\n",
    "    # Calculate regression metrics (e.g., MSE, MAE, etc.) based on your task\n",
    "    mse_loss = F.mse_loss(predictions, data.y[data.test_mask])\n",
    "    \n",
    "    return mse_loss.item(), predictions\n"
   ]
  },
  {
   "cell_type": "code",
   "execution_count": null,
   "metadata": {},
   "outputs": [],
   "source": [
    "def dist_sweep(model, edges_path, data, optimizer, criterion, distances):\n",
    "    preds = []\n",
    "    all_losses = []\n",
    "    \n",
    "    for distance in distances:\n",
    "        print('----', distance, '----')\n",
    "        for param in model.parameters():\n",
    "            if param.requires_grad:\n",
    "                if len(param.shape) > 1:\n",
    "                    torch.nn.init.xavier_uniform_(param.data)\n",
    "                else:\n",
    "                    torch.nn.init.zeros_(param.data)\n",
    "        \n",
    "        distance_losses = []\n",
    "        for _ in range(0, 20):\n",
    "            print(_)\n",
    "            optimizer.zero_grad()\n",
    "            filepath = edges_path + str(distance) + \"km\"\n",
    "            edges = torch.load(filepath)\n",
    "            data.edge_index = edges\n",
    "            for epoch in range(1, 101):\n",
    "                    loss = gcn_train(model=model,\n",
    "                                data=data,\n",
    "                                optimizer=optimizer,\n",
    "                                criterion=criterion)\n",
    "                    #print(f'Epoch: {epoch:03d}, Loss: {loss:.4f}')\n",
    "\n",
    "            loss, pred = gcn_test(model=model,\n",
    "                                data=data)\n",
    "            preds.append(pred)\n",
    "            distance_losses.append(loss)\n",
    "        all_losses.append(distance_losses)\n",
    "    return preds, all_losses\n"
   ]
  },
  {
   "cell_type": "code",
   "execution_count": null,
   "metadata": {},
   "outputs": [],
   "source": [
    "# Instantiate the model\n",
    "gcn_regression_model = GCNRegression(in_channels=oil_gas_regression_data.num_features,\n",
    "                                     hidden_channels=16,\n",
    "                                     out_channels=2)\n",
    "gcn_regression_optimizer = torch.optim.NAdam(gcn_regression_model.parameters(), lr=0.01, weight_decay=5e-4)\n",
    "gcn_regression_criterion = torch.nn.MSELoss()  # Mean Squared Error Loss for regression\n",
    "\n",
    "oil_gas_regression_data = oil_gas_regression_data\n",
    "\n",
    "distances =[1,2,3,4,5,25,50,100,200, 500,1000,2000,5000,10000]\n",
    "preds, losses = dist_sweep(model=gcn_regression_model, \n",
    "                           edges_path='pyg_objects/oil+gas/co2+ch4-',\n",
    "                           data=oil_gas_regression_data, \n",
    "                           optimizer=gcn_regression_optimizer, \n",
    "                           criterion=gcn_regression_criterion, \n",
    "                           distances=distances)"
   ]
  },
  {
   "cell_type": "markdown",
   "metadata": {},
   "source": [
    "### Comparison with MLP"
   ]
  },
  {
   "cell_type": "code",
   "execution_count": null,
   "metadata": {},
   "outputs": [],
   "source": [
    "from torch.nn import Linear\n",
    "\n",
    "class MLP(torch.nn.Module):\n",
    "    def __init__(self, input_dim, hidden_channels, output_dim):\n",
    "        super().__init__()\n",
    "        torch.manual_seed(12345)\n",
    "        self.lin1 = Linear(input_dim, hidden_channels)\n",
    "        self.lin2 = Linear(hidden_channels, output_dim)\n",
    "        self.double()\n",
    "        \n",
    "    def forward(self, x):\n",
    "        x = self.lin1(x)\n",
    "        x = x.relu()\n",
    "        x = F.dropout(x, p=0.5, training=self.training)\n",
    "        x = self.lin2(x)\n",
    "        return x\n",
    "\n",
    "model = MLP(input_dim=oil_gas_regression_data.num_features,\n",
    "            hidden_channels=16,\n",
    "            output_dim=2)\n",
    "print(model)"
   ]
  },
  {
   "cell_type": "code",
   "execution_count": null,
   "metadata": {},
   "outputs": [],
   "source": [
    "def mlp_train(model, data, optimizer, criterion):\n",
    "    model.train()\n",
    "    optimizer.zero_grad()  # Clear gradients.\n",
    "    out = model(data.x)  # Perform a single forward pass.\n",
    "\n",
    "    # Assuming data.y contains the target values for regression\n",
    "    loss = criterion(out[data.train_mask], data.y[data.train_mask])\n",
    "    \n",
    "    loss.backward()  # Derive gradients.\n",
    "    optimizer.step()  # Update parameters based on gradients.\n",
    "    return loss.item()\n",
    "\n",
    "def mlp_test(model, data, criterion):\n",
    "    model.eval()\n",
    "    out = model(data.x)\n",
    "    \n",
    "    # Assuming data.y contains the target values for regression\n",
    "    predictions = out[data.test_mask]\n",
    "    \n",
    "    # Calculate regression metrics (e.g., MSE, MAE, etc.) based on your task\n",
    "    mse_loss = criterion(predictions, data.y[data.test_mask])\n",
    "    \n",
    "    return mse_loss.item()"
   ]
  },
  {
   "cell_type": "code",
   "execution_count": null,
   "metadata": {},
   "outputs": [],
   "source": [
    "criterion = torch.nn.MSELoss()  # Change the loss function to MSE for regression\n",
    "optimizer = torch.optim.Adam(model.parameters(), lr=0.1, weight_decay=5e-4)  # Define optimizer.\n",
    "\n",
    "# Training loop\n",
    "for epoch in range(1, 500):\n",
    "    loss = mlp_train(model=model, data=oil_gas_regression_data, optimizer=optimizer, criterion=criterion)\n",
    "    print(f'Epoch: {epoch:03d}, Loss: {loss:.4f}')\n",
    "\n",
    "# Testing after training\n",
    "test_loss = mlp_test(model=model, data=oil_gas_regression_data, criterion=criterion)\n",
    "print(f'Test Loss: {test_loss:.4f}')"
   ]
  },
  {
   "cell_type": "code",
   "execution_count": null,
   "metadata": {},
   "outputs": [],
   "source": [
    "import matplotlib.pyplot as plt\n",
    "import matplotlib.colors as mcolors\n",
    "import numpy as np\n",
    "\n",
    "cmap = plt.cm.plasma\n",
    "norm = mcolors.Normalize(vmin=0, vmax=len(losses)-1)\n",
    "\n",
    "for l, label, i in zip(losses, distances, range(0, len(distances))):\n",
    "    plt.plot(l, label=str(label)+'km', color=cmap(norm(i)))\n",
    "\n",
    "plt.axhline(y=31098332930239.0273, color='gray', linestyle='--', label='MLP loss')\n",
    "\n",
    "plt.xlabel('# of training passes')\n",
    "plt.ylabel('MSE Loss')\n",
    "plt.title(\"Oil & Gas Regression\")\n",
    "plt.legend(fontsize='small')\n",
    "plt.show()"
   ]
  },
  {
   "cell_type": "code",
   "execution_count": null,
   "metadata": {},
   "outputs": [],
   "source": [
    "# Now we will test the coal data"
   ]
  },
  {
   "cell_type": "code",
   "execution_count": null,
   "metadata": {},
   "outputs": [],
   "source": [
    "coal_regression_data = torch.load('pyg_objects/coal/coal_regression_data')\n",
    "coal_regression_data"
   ]
  },
  {
   "cell_type": "code",
   "execution_count": null,
   "metadata": {},
   "outputs": [],
   "source": [
    "# Instantiate the model\n",
    "gcn_regression_model = GCNRegression(in_channels=coal_regression_data.num_features,\n",
    "                                     hidden_channels=16,\n",
    "                                     out_channels=1)\n",
    "gcn_regression_optimizer = torch.optim.NAdam(gcn_regression_model.parameters(), lr=0.01, weight_decay=5e-4)\n",
    "gcn_regression_criterion = torch.nn.MSELoss()  # Mean Squared Error Loss for regression\n",
    "\n",
    "\n",
    "distances =[1,2,3,4,5,25,50,100,200, 500,1000,2000]\n",
    "preds, losses = dist_sweep(model=gcn_regression_model, \n",
    "                           edges_path='pyg_objects/coal/coal-ch4-edges-',\n",
    "                           data=coal_regression_data, \n",
    "                           optimizer=gcn_regression_optimizer, \n",
    "                           criterion=gcn_regression_criterion, \n",
    "                           distances=distances)"
   ]
  },
  {
   "cell_type": "code",
   "execution_count": null,
   "metadata": {},
   "outputs": [],
   "source": [
    "import matplotlib.pyplot as plt\n",
    "import matplotlib.colors as mcolors\n",
    "import numpy as np\n",
    "\n",
    "cmap = plt.cm.plasma\n",
    "norm = mcolors.Normalize(vmin=0, vmax=len(losses)-1)\n",
    "\n",
    "for l, label, i in zip(losses, distances, range(0, len(distances))):\n",
    "    plt.plot(l, label=str(label)+'km', color=cmap(norm(i)))\n",
    "\n",
    "plt.axhline(y=490899825.2230, color='gray', linestyle='--', label='MLP loss')\n",
    "\n",
    "plt.xlabel('# of training passes')\n",
    "plt.ylabel('MSE Loss')\n",
    "plt.title(\"Coal Regression\")\n",
    "plt.legend(fontsize='small')\n",
    "plt.show()"
   ]
  },
  {
   "cell_type": "code",
   "execution_count": null,
   "metadata": {},
   "outputs": [],
   "source": [
    "model = MLP(input_dim=coal_regression_data.num_features,\n",
    "            hidden_channels=16,\n",
    "            output_dim=1)\n",
    "criterion = torch.nn.MSELoss()  # Change the loss function to MSE for regression\n",
    "optimizer = torch.optim.Adam(model.parameters(), lr=0.1, weight_decay=5e-4)  # Define optimizer.\n",
    "\n",
    "# Training loop\n",
    "for epoch in range(1, 500):\n",
    "    loss = mlp_train(model=model, data=coal_regression_data, optimizer=optimizer, criterion=criterion)\n",
    "    print(f'Epoch: {epoch:03d}, Loss: {loss:.4f}')\n",
    "\n",
    "# Testing after training\n",
    "test_loss = mlp_test(model=model, data=coal_regression_data, criterion=criterion)\n",
    "print(f'Test Loss: {test_loss:.4f}')\n"
   ]
  },
  {
   "cell_type": "code",
   "execution_count": null,
   "metadata": {},
   "outputs": [],
   "source": []
  }
 ],
 "metadata": {
  "kernelspec": {
   "display_name": "base",
   "language": "python",
   "name": "python3"
  },
  "language_info": {
   "codemirror_mode": {
    "name": "ipython",
    "version": 3
   },
   "file_extension": ".py",
   "mimetype": "text/x-python",
   "name": "python",
   "nbconvert_exporter": "python",
   "pygments_lexer": "ipython3",
   "version": "3.8.8"
  }
 },
 "nbformat": 4,
 "nbformat_minor": 4
}
